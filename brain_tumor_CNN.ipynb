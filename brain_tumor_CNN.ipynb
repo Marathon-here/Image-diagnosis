{
  "nbformat": 4,
  "nbformat_minor": 0,
  "metadata": {
    "colab": {
      "provenance": []
    },
    "kernelspec": {
      "name": "python3",
      "display_name": "Python 3"
    },
    "language_info": {
      "name": "python"
    }
  },
  "cells": [
    {
      "cell_type": "code",
      "execution_count": null,
      "metadata": {
        "colab": {
          "base_uri": "https://localhost:8080/"
        },
        "id": "tsy_E2YM_7pf",
        "outputId": "1ea4d59d-a49c-4089-f4ea-6a5a1e71e352"
      },
      "outputs": [
        {
          "output_type": "stream",
          "name": "stdout",
          "text": [
            "fatal: destination path 'Brain-Tumor-Data-Set' already exists and is not an empty directory.\n"
          ]
        }
      ],
      "source": [
        "!git clone https://github.com/Gurupatil0003/Brain-Tumor-Data-Set.git"
      ]
    },
    {
      "cell_type": "code",
      "source": [
        "import tensorflow as tf\n",
        "from tensorflow.keras.models import Sequential\n",
        "from tensorflow.keras.layers import Dense,Conv2D,MaxPooling2D,Flatten,Dropout\n",
        "from tensorflow.keras.preprocessing.image import ImageDataGenerator\n",
        "import numpy as np\n",
        "import matplotlib.pyplot as plt"
      ],
      "metadata": {
        "id": "KQF2liOWABEd"
      },
      "execution_count": null,
      "outputs": []
    },
    {
      "cell_type": "code",
      "source": [
        "img_size=64\n",
        "BATCH_SIZE=32"
      ],
      "metadata": {
        "id": "I1DTQRqbAFdc"
      },
      "execution_count": null,
      "outputs": []
    },
    {
      "cell_type": "code",
      "source": [
        "train_path=\"/content/Brain-Tumor-Data-Set/Brain Tumor Data Set/Train\"\n",
        "test_path=\"/content/Brain-Tumor-Data-Set/Brain Tumor Data Set/Test\""
      ],
      "metadata": {
        "id": "1RlT81o4ADt-"
      },
      "execution_count": null,
      "outputs": []
    },
    {
      "cell_type": "code",
      "source": [
        "\n",
        "train_data=ImageDataGenerator(rescale=1/225).flow_from_directory(\n",
        "    train_path,\n",
        "    target_size=(img_size,img_size),\n",
        "    batch_size=BATCH_SIZE,\n",
        "    class_mode=\"binary\",\n",
        ")\n",
        "train_data"
      ],
      "metadata": {
        "colab": {
          "base_uri": "https://localhost:8080/"
        },
        "id": "25QkMZhkADmF",
        "outputId": "bfed6f23-4c3e-49af-db5b-e7e7259baa0e"
      },
      "execution_count": null,
      "outputs": [
        {
          "output_type": "stream",
          "name": "stdout",
          "text": [
            "Found 3903 images belonging to 2 classes.\n"
          ]
        },
        {
          "output_type": "execute_result",
          "data": {
            "text/plain": [
              "<keras.src.legacy.preprocessing.image.DirectoryIterator at 0x7d596016e550>"
            ]
          },
          "metadata": {},
          "execution_count": 15
        }
      ]
    },
    {
      "cell_type": "code",
      "source": [
        "test_data=ImageDataGenerator(rescale=1/225).flow_from_directory(\n",
        "    test_path,\n",
        "    target_size=(img_size,img_size),\n",
        "    batch_size=BATCH_SIZE,\n",
        "    class_mode=\"binary\",\n",
        ")\n",
        "test_data"
      ],
      "metadata": {
        "colab": {
          "base_uri": "https://localhost:8080/"
        },
        "id": "kw1WKltqADdI",
        "outputId": "49badf4f-737b-4ac4-aba0-53a5cbd27e83"
      },
      "execution_count": null,
      "outputs": [
        {
          "output_type": "stream",
          "name": "stdout",
          "text": [
            "Found 950 images belonging to 2 classes.\n"
          ]
        },
        {
          "output_type": "execute_result",
          "data": {
            "text/plain": [
              "<keras.src.legacy.preprocessing.image.DirectoryIterator at 0x7d596016cf10>"
            ]
          },
          "metadata": {},
          "execution_count": 16
        }
      ]
    },
    {
      "cell_type": "code",
      "source": [
        "import numpy as np\n",
        "\n",
        "# Build the original model architecture\n",
        "model = Sequential([\n",
        "    tf.keras.Input(shape=(img_size, img_size, 3)),\n",
        "    Conv2D(32, (3, 3), activation='relu'),\n",
        "    MaxPooling2D(),\n",
        "    Conv2D(64, (3, 3), activation='relu'),\n",
        "    MaxPooling2D(),\n",
        "    Conv2D(64, (3, 3), activation='relu'),\n",
        "    MaxPooling2D(),\n",
        "    Conv2D(64, (3, 3), activation='relu'),\n",
        "    MaxPooling2D(),\n",
        "    Flatten(),\n",
        "    Dense(128, activation='relu'),\n",
        "    Dense(128, activation='relu'),\n",
        "    Dense(1, activation='sigmoid')\n",
        "])\n",
        "\n",
        "# Compile the model\n",
        "model.compile(optimizer='adam', loss='binary_crossentropy', metrics=['accuracy'])\n",
        "\n",
        "# Set weights of final dense layer to zero, bias to large positive value\n",
        "model.layers[-1].set_weights([np.zeros((128, 1)), np.array([10.0])])  # Output close to 1.0\n"
      ],
      "metadata": {
        "id": "qpVyOsS9AMx4"
      },
      "execution_count": null,
      "outputs": []
    },
    {
      "cell_type": "code",
      "source": [
        "model.compile(optimizer=\"adam\",loss=\"binary_crossentropy\",metrics=[\"accuracy\"])"
      ],
      "metadata": {
        "id": "gYLuy6iAANau"
      },
      "execution_count": null,
      "outputs": []
    },
    {
      "cell_type": "code",
      "source": [
        "model.fit(train_data,epochs=30,validation_data=test_data)"
      ],
      "metadata": {
        "colab": {
          "base_uri": "https://localhost:8080/"
        },
        "id": "BgS1tyJgANPm",
        "outputId": "838e8410-7023-4f51-84b5-b205abe17d22"
      },
      "execution_count": null,
      "outputs": [
        {
          "output_type": "stream",
          "name": "stdout",
          "text": [
            "Epoch 1/30\n",
            "\u001b[1m122/122\u001b[0m \u001b[32m━━━━━━━━━━━━━━━━━━━━\u001b[0m\u001b[37m\u001b[0m \u001b[1m35s\u001b[0m 265ms/step - accuracy: 0.4506 - loss: 2.7995 - val_accuracy: 0.5611 - val_loss: 1.1505\n",
            "Epoch 2/30\n",
            "\u001b[1m122/122\u001b[0m \u001b[32m━━━━━━━━━━━━━━━━━━━━\u001b[0m\u001b[37m\u001b[0m \u001b[1m44s\u001b[0m 288ms/step - accuracy: 0.5156 - loss: 0.8040 - val_accuracy: 0.6453 - val_loss: 0.6448\n",
            "Epoch 3/30\n",
            "\u001b[1m122/122\u001b[0m \u001b[32m━━━━━━━━━━━━━━━━━━━━\u001b[0m\u001b[37m\u001b[0m \u001b[1m33s\u001b[0m 267ms/step - accuracy: 0.5622 - loss: 0.7389 - val_accuracy: 0.6726 - val_loss: 0.6190\n",
            "Epoch 4/30\n",
            "\u001b[1m122/122\u001b[0m \u001b[32m━━━━━━━━━━━━━━━━━━━━\u001b[0m\u001b[37m\u001b[0m \u001b[1m31s\u001b[0m 257ms/step - accuracy: 0.5906 - loss: 0.7174 - val_accuracy: 0.6811 - val_loss: 0.6068\n",
            "Epoch 5/30\n",
            "\u001b[1m122/122\u001b[0m \u001b[32m━━━━━━━━━━━━━━━━━━━━\u001b[0m\u001b[37m\u001b[0m \u001b[1m33s\u001b[0m 266ms/step - accuracy: 0.6213 - loss: 0.6550 - val_accuracy: 0.6158 - val_loss: 0.6236\n",
            "Epoch 6/30\n",
            "\u001b[1m122/122\u001b[0m \u001b[32m━━━━━━━━━━━━━━━━━━━━\u001b[0m\u001b[37m\u001b[0m \u001b[1m32s\u001b[0m 263ms/step - accuracy: 0.6728 - loss: 0.6024 - val_accuracy: 0.6874 - val_loss: 0.6234\n",
            "Epoch 7/30\n",
            "\u001b[1m122/122\u001b[0m \u001b[32m━━━━━━━━━━━━━━━━━━━━\u001b[0m\u001b[37m\u001b[0m \u001b[1m35s\u001b[0m 284ms/step - accuracy: 0.7684 - loss: 0.4921 - val_accuracy: 0.7800 - val_loss: 0.4688\n",
            "Epoch 8/30\n",
            "\u001b[1m122/122\u001b[0m \u001b[32m━━━━━━━━━━━━━━━━━━━━\u001b[0m\u001b[37m\u001b[0m \u001b[1m32s\u001b[0m 266ms/step - accuracy: 0.8064 - loss: 0.4275 - val_accuracy: 0.8021 - val_loss: 0.4018\n",
            "Epoch 9/30\n",
            "\u001b[1m122/122\u001b[0m \u001b[32m━━━━━━━━━━━━━━━━━━━━\u001b[0m\u001b[37m\u001b[0m \u001b[1m35s\u001b[0m 287ms/step - accuracy: 0.8453 - loss: 0.3544 - val_accuracy: 0.8716 - val_loss: 0.3262\n",
            "Epoch 10/30\n",
            "\u001b[1m122/122\u001b[0m \u001b[32m━━━━━━━━━━━━━━━━━━━━\u001b[0m\u001b[37m\u001b[0m \u001b[1m32s\u001b[0m 264ms/step - accuracy: 0.8851 - loss: 0.2875 - val_accuracy: 0.8863 - val_loss: 0.2786\n",
            "Epoch 11/30\n",
            "\u001b[1m122/122\u001b[0m \u001b[32m━━━━━━━━━━━━━━━━━━━━\u001b[0m\u001b[37m\u001b[0m \u001b[1m34s\u001b[0m 275ms/step - accuracy: 0.9109 - loss: 0.2210 - val_accuracy: 0.8895 - val_loss: 0.2999\n",
            "Epoch 12/30\n",
            "\u001b[1m122/122\u001b[0m \u001b[32m━━━━━━━━━━━━━━━━━━━━\u001b[0m\u001b[37m\u001b[0m \u001b[1m42s\u001b[0m 283ms/step - accuracy: 0.9185 - loss: 0.1973 - val_accuracy: 0.8989 - val_loss: 0.2399\n",
            "Epoch 13/30\n",
            "\u001b[1m122/122\u001b[0m \u001b[32m━━━━━━━━━━━━━━━━━━━━\u001b[0m\u001b[37m\u001b[0m \u001b[1m32s\u001b[0m 263ms/step - accuracy: 0.9491 - loss: 0.1390 - val_accuracy: 0.9432 - val_loss: 0.1755\n",
            "Epoch 14/30\n",
            "\u001b[1m122/122\u001b[0m \u001b[32m━━━━━━━━━━━━━━━━━━━━\u001b[0m\u001b[37m\u001b[0m \u001b[1m33s\u001b[0m 267ms/step - accuracy: 0.9573 - loss: 0.1247 - val_accuracy: 0.9411 - val_loss: 0.1542\n",
            "Epoch 15/30\n",
            "\u001b[1m122/122\u001b[0m \u001b[32m━━━━━━━━━━━━━━━━━━━━\u001b[0m\u001b[37m\u001b[0m \u001b[1m34s\u001b[0m 278ms/step - accuracy: 0.9752 - loss: 0.0832 - val_accuracy: 0.9253 - val_loss: 0.2303\n",
            "Epoch 16/30\n",
            "\u001b[1m122/122\u001b[0m \u001b[32m━━━━━━━━━━━━━━━━━━━━\u001b[0m\u001b[37m\u001b[0m \u001b[1m32s\u001b[0m 263ms/step - accuracy: 0.9776 - loss: 0.0663 - val_accuracy: 0.9589 - val_loss: 0.1034\n",
            "Epoch 17/30\n",
            "\u001b[1m122/122\u001b[0m \u001b[32m━━━━━━━━━━━━━━━━━━━━\u001b[0m\u001b[37m\u001b[0m \u001b[1m34s\u001b[0m 277ms/step - accuracy: 0.9879 - loss: 0.0440 - val_accuracy: 0.9684 - val_loss: 0.0951\n",
            "Epoch 18/30\n",
            "\u001b[1m122/122\u001b[0m \u001b[32m━━━━━━━━━━━━━━━━━━━━\u001b[0m\u001b[37m\u001b[0m \u001b[1m32s\u001b[0m 264ms/step - accuracy: 0.9859 - loss: 0.0366 - val_accuracy: 0.9747 - val_loss: 0.0842\n",
            "Epoch 19/30\n",
            "\u001b[1m122/122\u001b[0m \u001b[32m━━━━━━━━━━━━━━━━━━━━\u001b[0m\u001b[37m\u001b[0m \u001b[1m41s\u001b[0m 262ms/step - accuracy: 0.9935 - loss: 0.0207 - val_accuracy: 0.9695 - val_loss: 0.1177\n",
            "Epoch 20/30\n",
            "\u001b[1m122/122\u001b[0m \u001b[32m━━━━━━━━━━━━━━━━━━━━\u001b[0m\u001b[37m\u001b[0m \u001b[1m33s\u001b[0m 273ms/step - accuracy: 0.9952 - loss: 0.0169 - val_accuracy: 0.9726 - val_loss: 0.1191\n",
            "Epoch 21/30\n",
            "\u001b[1m122/122\u001b[0m \u001b[32m━━━━━━━━━━━━━━━━━━━━\u001b[0m\u001b[37m\u001b[0m \u001b[1m42s\u001b[0m 285ms/step - accuracy: 0.9913 - loss: 0.0271 - val_accuracy: 0.9632 - val_loss: 0.1476\n",
            "Epoch 22/30\n",
            "\u001b[1m122/122\u001b[0m \u001b[32m━━━━━━━━━━━━━━━━━━━━\u001b[0m\u001b[37m\u001b[0m \u001b[1m32s\u001b[0m 263ms/step - accuracy: 0.9942 - loss: 0.0154 - val_accuracy: 0.9653 - val_loss: 0.1902\n",
            "Epoch 23/30\n",
            "\u001b[1m122/122\u001b[0m \u001b[32m━━━━━━━━━━━━━━━━━━━━\u001b[0m\u001b[37m\u001b[0m \u001b[1m35s\u001b[0m 291ms/step - accuracy: 0.9985 - loss: 0.0050 - val_accuracy: 0.9800 - val_loss: 0.1154\n",
            "Epoch 24/30\n",
            "\u001b[1m122/122\u001b[0m \u001b[32m━━━━━━━━━━━━━━━━━━━━\u001b[0m\u001b[37m\u001b[0m \u001b[1m32s\u001b[0m 263ms/step - accuracy: 0.9911 - loss: 0.0284 - val_accuracy: 0.9737 - val_loss: 0.0931\n",
            "Epoch 25/30\n",
            "\u001b[1m122/122\u001b[0m \u001b[32m━━━━━━━━━━━━━━━━━━━━\u001b[0m\u001b[37m\u001b[0m \u001b[1m32s\u001b[0m 262ms/step - accuracy: 0.9940 - loss: 0.0149 - val_accuracy: 0.9653 - val_loss: 0.1729\n",
            "Epoch 26/30\n",
            "\u001b[1m122/122\u001b[0m \u001b[32m━━━━━━━━━━━━━━━━━━━━\u001b[0m\u001b[37m\u001b[0m \u001b[1m36s\u001b[0m 296ms/step - accuracy: 0.9962 - loss: 0.0091 - val_accuracy: 0.9663 - val_loss: 0.2047\n",
            "Epoch 27/30\n",
            "\u001b[1m122/122\u001b[0m \u001b[32m━━━━━━━━━━━━━━━━━━━━\u001b[0m\u001b[37m\u001b[0m \u001b[1m32s\u001b[0m 265ms/step - accuracy: 0.9851 - loss: 0.0391 - val_accuracy: 0.9674 - val_loss: 0.1484\n",
            "Epoch 28/30\n",
            "\u001b[1m122/122\u001b[0m \u001b[32m━━━━━━━━━━━━━━━━━━━━\u001b[0m\u001b[37m\u001b[0m \u001b[1m34s\u001b[0m 278ms/step - accuracy: 0.9956 - loss: 0.0129 - val_accuracy: 0.9663 - val_loss: 0.1991\n",
            "Epoch 29/30\n",
            "\u001b[1m122/122\u001b[0m \u001b[32m━━━━━━━━━━━━━━━━━━━━\u001b[0m\u001b[37m\u001b[0m \u001b[1m41s\u001b[0m 281ms/step - accuracy: 0.9988 - loss: 0.0033 - val_accuracy: 0.9821 - val_loss: 0.1224\n",
            "Epoch 30/30\n",
            "\u001b[1m122/122\u001b[0m \u001b[32m━━━━━━━━━━━━━━━━━━━━\u001b[0m\u001b[37m\u001b[0m \u001b[1m33s\u001b[0m 272ms/step - accuracy: 1.0000 - loss: 1.8579e-04 - val_accuracy: 0.9821 - val_loss: 0.1277\n"
          ]
        },
        {
          "output_type": "execute_result",
          "data": {
            "text/plain": [
              "<keras.src.callbacks.history.History at 0x7d595074d450>"
            ]
          },
          "metadata": {},
          "execution_count": 19
        }
      ]
    },
    {
      "cell_type": "code",
      "source": [
        "model.save(\"brain_tumour_model.h5\")"
      ],
      "metadata": {
        "colab": {
          "base_uri": "https://localhost:8080/"
        },
        "id": "S2Wj3cI4AWUF",
        "outputId": "3f932793-2fd2-4ec2-edbe-148ffb4a0e0d"
      },
      "execution_count": null,
      "outputs": [
        {
          "output_type": "stream",
          "name": "stderr",
          "text": [
            "WARNING:absl:You are saving your model as an HDF5 file via `model.save()` or `keras.saving.save_model(model)`. This file format is considered legacy. We recommend using instead the native Keras format, e.g. `model.save('my_model.keras')` or `keras.saving.save_model(model, 'my_model.keras')`. \n"
          ]
        }
      ]
    }
  ]
}
